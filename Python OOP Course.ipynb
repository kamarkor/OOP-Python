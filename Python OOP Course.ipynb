{
 "cells": [
  {
   "cell_type": "markdown",
   "id": "e3afcdbc",
   "metadata": {},
   "source": [
    "## Object-Oriented Python"
   ]
  },
  {
   "cell_type": "code",
   "execution_count": 1,
   "id": "f87fa5dd",
   "metadata": {},
   "outputs": [
    {
     "name": "stdout",
     "output_type": "stream",
     "text": [
      "39.95\n",
      "29.95\n"
     ]
    }
   ],
   "source": [
    "# create a basic class\n",
    "class Book:\n",
    "    def __init__(self, title, author, pages, price):\n",
    "        self.title = title\n",
    "        # add properties (instance attributes)\n",
    "        self.author = author\n",
    "        self.pages = pages\n",
    "        self.price = price\n",
    "        self.__secret = \"This is a secret attribute\"\n",
    "        \n",
    "    # create instance methods\n",
    "    def getprice(self):\n",
    "        if hasattr(self, \"_discount\"): \n",
    "            return self.price - (self.price * self._discount)\n",
    "        else:\n",
    "            return self.price\n",
    "    \n",
    "    def setdiscount(self, amount):\n",
    "        self._discount = amount # _ hint : internal to the class\n",
    "\n",
    "# create instances of the class\n",
    "b1 = Book(\"War and Peace\", \"Leo Tolstoy\", 1225, 39.95)\n",
    "b2 = Book(\"The Catcher in the Rye\", \"JD Salinger\", 234, 29.95)\n",
    "\n",
    "# print the price of book1\n",
    "print(b1.getprice())\n",
    "\n",
    "# try setting the discount\n",
    "print(b2.getprice())\n",
    "\n",
    "# properties with double underscores are hidden by the interpreter\n",
    "#print(b2.__secret)"
   ]
  },
  {
   "cell_type": "markdown",
   "id": "4f13eb0d",
   "metadata": {},
   "source": [
    "## Inheritance and Composition"
   ]
  },
  {
   "cell_type": "code",
   "execution_count": 2,
   "id": "92ee9eac",
   "metadata": {},
   "outputs": [
    {
     "name": "stdout",
     "output_type": "stream",
     "text": [
      "Aldous Huxley\n",
      "New York Times Company\n",
      "29.0 5.99 6.0\n"
     ]
    }
   ],
   "source": [
    "# inheritance\n",
    "class Publication:\n",
    "    def __init__(self, title, price):\n",
    "        self.title = title\n",
    "        self.price = price\n",
    "        \n",
    "class Periodical(Publication): \n",
    "    def __init__(self, title, price, period, publisher):\n",
    "        super().__init__(title, price) \n",
    "        self.period = period\n",
    "        self.publisher = publisher\n",
    "        \n",
    "class Book(Publication):\n",
    "    def __init__(self, title, author, pages, price):\n",
    "        super().__init__(title, price)\n",
    "        self.author = author\n",
    "        self.pages = pages\n",
    "        \n",
    "class Magazine(Periodical):\n",
    "    def __init__(self, title, publisher, price, period):\n",
    "        super().__init__(title, price, period, publisher)\n",
    "\n",
    "class Newspaper(Periodical):\n",
    "    def __init__(self, title, publisher, price, period):\n",
    "        super().__init__(title, price, period, publisher)\n",
    "\n",
    "b1 = Book(\"Brave New World\", \"Aldous Huxley\", 311, 29.0)\n",
    "n1 = Newspaper(\"NY Times\", \"New York Times Company\", 6.0, \"Daily\")\n",
    "m1 = Magazine(\"Scientific American\", \"Springer Nature\", 5.99, \"Monthly\")\n",
    "\n",
    "print(b1.author)\n",
    "print(n1.publisher)\n",
    "print(b1.price, m1.price, n1.price)"
   ]
  },
  {
   "cell_type": "code",
   "execution_count": 3,
   "id": "596303dd",
   "metadata": {},
   "outputs": [
    {
     "name": "stdout",
     "output_type": "stream",
     "text": [
      "314.0\n"
     ]
    }
   ],
   "source": [
    "# Abstract base classes (ABC)\n",
    "from abc import ABC, abstractmethod\n",
    "\n",
    "class GraphicShape(ABC):\n",
    "    def __init__(self):\n",
    "        super().__init__()\n",
    "        \n",
    "    @abstractmethod \n",
    "    def calcArea(self):\n",
    "        pass\n",
    "    \n",
    "class Circle(GraphicShape):\n",
    "    def __init__(self, radius):\n",
    "        self.radius = radius\n",
    "    def calcArea(self):\n",
    "        return 3.14 * (self.radius ** 2)\n",
    "        \n",
    "class Square(GraphicShape):\n",
    "    def __init__(self, side):\n",
    "        self.side = side\n",
    "    def calcArea(self):\n",
    "        return self.side * self.side\n",
    "\n",
    "            \n",
    "c = Circle(10)\n",
    "print(c.calcArea())"
   ]
  },
  {
   "cell_type": "code",
   "execution_count": 4,
   "id": "5457bb39",
   "metadata": {},
   "outputs": [
    {
     "name": "stdout",
     "output_type": "stream",
     "text": [
      "foo\n",
      "bar\n",
      "Class A\n",
      "(<class '__main__.C'>, <class '__main__.A'>, <class '__main__.B'>, <class 'object'>)\n"
     ]
    }
   ],
   "source": [
    "# multiple inheritance\n",
    "class A:\n",
    "    def __init__(self):\n",
    "        super().__init__()\n",
    "        self.foo = \"foo\"\n",
    "        self.name = \"Class A\"\n",
    "        \n",
    "class B:\n",
    "    def __init__(self):\n",
    "        super().__init__()\n",
    "        self.bar = \"bar\"\n",
    "        self.name = \"Class B\"\n",
    "        \n",
    "class C(A, B):\n",
    "    def __init__(self):\n",
    "        super().__init__()\n",
    "        \n",
    "    def showpropos(self):\n",
    "        print(self.foo)\n",
    "        print(self.bar)\n",
    "        print(self.name) # looks in the order, here class A (C(A,B))\n",
    "        \n",
    "c = C()\n",
    "c.showpropos()\n",
    "print(C.__mro__)"
   ]
  },
  {
   "cell_type": "code",
   "execution_count": 5,
   "id": "75b2cdc9",
   "metadata": {},
   "outputs": [
    {
     "name": "stdout",
     "output_type": "stream",
     "text": [
      "314.0\n",
      "{\"Circle\": 314.0}\n"
     ]
    }
   ],
   "source": [
    "# Interfaces\n",
    "from abc import ABC, abstractmethod\n",
    "\n",
    "class JSONify(ABC):\n",
    "    @abstractmethod\n",
    "    def toJSON(self):\n",
    "        pass\n",
    "\n",
    "class GraphicShape(ABC):\n",
    "    def __init__(self):\n",
    "        super().__init__()\n",
    "        \n",
    "    @abstractmethod\n",
    "    def calcArea(self):\n",
    "        pass\n",
    "    \n",
    "class Circle(GraphicShape, JSONify):\n",
    "    def __init__(self, radius):\n",
    "        self.radius = radius\n",
    "        \n",
    "    def calcArea(self):\n",
    "        return 3.14 * (self.radius ** 2)\n",
    "    \n",
    "    def toJSON(self):\n",
    "        return f\"{{\\\"Circle\\\": {str(self.calcArea())}}}\"\n",
    "        \n",
    "c = Circle(10)\n",
    "print(c.calcArea())\n",
    "print(c.toJSON())"
   ]
  },
  {
   "cell_type": "code",
   "execution_count": 6,
   "id": "ba5f67cb",
   "metadata": {},
   "outputs": [
    {
     "name": "stdout",
     "output_type": "stream",
     "text": [
      "LeoTolstoy\n",
      "War and Peace\n",
      "365\n"
     ]
    }
   ],
   "source": [
    "# Composition\n",
    "class Book:\n",
    "    def __init__(self, title, price, author=None):\n",
    "        self.title = title\n",
    "        self.price = price\n",
    "        \n",
    "        self.author = author\n",
    "        \n",
    "        self.chapters = []\n",
    "        \n",
    "    def addchapter(self, chapter):\n",
    "        self.chapters.append(chapter)\n",
    "        \n",
    "    def getbookpagecount(self):\n",
    "        result = 0\n",
    "        for ch in self.chapters:\n",
    "            result += ch.pagecount\n",
    "        return result\n",
    "        \n",
    "class Author:\n",
    "    def __init__(self, fname, lname):\n",
    "        self.fname = fname\n",
    "        self.lname = lname\n",
    "    def __str__(self):\n",
    "        return f\"{self.fname}{self.lname}\"\n",
    "    \n",
    "class Chapter:\n",
    "    def __init__(self, name, pagecount):\n",
    "        self.name = name\n",
    "        self.pagecount = pagecount\n",
    "        \n",
    "auth = Author(\"Leo\", \"Tolstoy\")        \n",
    "b1 = Book(\"War and Peace\", 39.0, auth)\n",
    "\n",
    "b1.addchapter(Chapter(\"Chapter 1\", 125))\n",
    "b1.addchapter(Chapter(\"Chapter 2\", 97))\n",
    "b1.addchapter(Chapter(\"Chapter 3\", 143))\n",
    "\n",
    "print(b1.author)\n",
    "print(b1.title)\n",
    "print(b1.getbookpagecount())"
   ]
  },
  {
   "cell_type": "markdown",
   "id": "b5195d4a",
   "metadata": {},
   "source": [
    "## Magic Object Methods"
   ]
  },
  {
   "cell_type": "markdown",
   "id": "61c90f4e",
   "metadata": {},
   "source": [
    "- \\_\\_str\\_\\_ : used to provide a user friendly string description of the object (displayed to the user)\n",
    "- \\_\\_repr\\_\\_ : returns an object representation (displays a lot of details and information)\n",
    "- \\_\\_eq\\_\\_ : checks for equality between two objects\n",
    "- \\_\\_ge\\_\\_ : establishes >= relationship with another obj\n",
    "- \\_\\_lt\\_\\_ : establishes < relationship with another obj\n",
    "- \\_\\_getattribute\\_\\_ : called whenever the value of an attribute is accessed\n",
    "- \\_\\_setattr\\_\\_ : called when an attribute value is et\n",
    "- \\_\\_getattr\\_\\_ : called when \\_\\_getattribute\\_\\_ lookup fails\n",
    "- \\_\\_call\\_\\_ : can be used to call the object like a function"
   ]
  },
  {
   "cell_type": "code",
   "execution_count": 7,
   "id": "29b84d86",
   "metadata": {},
   "outputs": [
    {
     "name": "stdout",
     "output_type": "stream",
     "text": [
      "War and Peace by Leo Tolstoy, costs 39.95\n",
      "The Catcher in the Rye by JD Salinger, costs 29.95\n",
      "War and Peace by Leo Tolstoy, costs 39.95\n",
      "title=The Catcher in the Rye, author=JD Salinger, price=29.95\n"
     ]
    }
   ],
   "source": [
    "# String representation\n",
    "class Book:\n",
    "    def __init__(self, title, author, price):\n",
    "        super().__init__()\n",
    "        self.title = title\n",
    "        self.author = author\n",
    "        self.price = price\n",
    "        \n",
    "    # __str__    \n",
    "    def __str__(self):\n",
    "        return f\"{self.title} by {self.author}, costs {self.price}\"\n",
    "    \n",
    "    # __repr__\n",
    "    def __repr__(self):\n",
    "        return f\"title={self.title}, author={self.author}, price={self.price}\"\n",
    "    \n",
    "b1 = Book(\"War and Peace\", \"Leo Tolstoy\", 39.95)\n",
    "b2 = Book(\"The Catcher in the Rye\", \"JD Salinger\", 29.95)\n",
    "\n",
    "print(b1)\n",
    "print(b2)\n",
    "print(str(b1))\n",
    "print(repr(b2))"
   ]
  },
  {
   "cell_type": "code",
   "execution_count": 8,
   "id": "8a82fe68",
   "metadata": {},
   "outputs": [
    {
     "name": "stdout",
     "output_type": "stream",
     "text": [
      "True\n",
      "False\n",
      "False\n",
      "True\n",
      "['To Kill a Mockingbird', 'The Catcher in the Rye', 'War and Peace', 'War and Peace']\n"
     ]
    }
   ],
   "source": [
    "# Equality and comparison\n",
    "class Book:\n",
    "    def __init__(self, title, author, price):\n",
    "        super().__init__()\n",
    "        self.title = title\n",
    "        self.author = author\n",
    "        self.price = price\n",
    "    \n",
    "    # __eq__\n",
    "    def __eq__(self, value):\n",
    "        if not isinstance(value, Book):\n",
    "            raise ValueError(\"Cannot compare book to a non-book\")\n",
    "        return (self.title == value.title and\n",
    "        self.author == value.author and\n",
    "        self.price == value.price)\n",
    "    \n",
    "    # __ge__\n",
    "    def __ge__(self, value):\n",
    "        if not isinstance(value, Book):\n",
    "            raise ValueError(\"Cannot compare book to a non-book\")  \n",
    "        return self.price >= value.price\n",
    "    \n",
    "    # __lt__\n",
    "    def __lt__(self, value):\n",
    "        if not isinstance(value, Book):\n",
    "            raise ValueError(\"Cannot compare book to a non-book\") \n",
    "        return self.price < value.price\n",
    "        \n",
    "        \n",
    "    \n",
    "b1 = Book(\"War and Peace\", \"Leo Tolstoy\", 39.95)\n",
    "b2 = Book(\"The Catcher in the Rye\", \"JD Salinger\", 29.95)\n",
    "b3 = Book(\"War and Peace\", \"Leo Tolstoy\", 39.95)\n",
    "b4 = Book(\"To Kill a Mockingbird\", \"Harper Lee\", 24.95)\n",
    "\n",
    "print(b1 == b3)\n",
    "print(b1 == b2)\n",
    "#print(b1 == 16)\n",
    "\n",
    "print(b2 >= b1)\n",
    "print(b2 < b1)\n",
    "\n",
    "books = [b1, b3, b2, b4]\n",
    "books.sort()\n",
    "print([book.title for book in books]) # sorted based on the price"
   ]
  },
  {
   "cell_type": "code",
   "execution_count": 9,
   "id": "071d9493",
   "metadata": {},
   "outputs": [
    {
     "name": "stdout",
     "output_type": "stream",
     "text": [
      "randompropis not here!\n"
     ]
    }
   ],
   "source": [
    "# Attribute access\n",
    "class Book:\n",
    "    def __init__(self, title, author, price):\n",
    "        super().__init__()\n",
    "        self.title = title\n",
    "        self.author = author\n",
    "        self.price = price\n",
    "        self._discount = 0.1\n",
    "        \n",
    "    def __str__(self):\n",
    "        return f\"{self.title} by {self.author}, costs {self.price}\"\n",
    "    \n",
    "    # __getattribute__\n",
    "    def __getattribute__(self, name):\n",
    "        if name == \"price\":\n",
    "            p = super().__getattribute__(\"price\")\n",
    "            d = super().__getattribute__(\"_discount\")\n",
    "            return p - (p * d)\n",
    "        return super().__getattribute__(name)\n",
    "    \n",
    "    # __setattr__\n",
    "    def __setattr__(self, name, value):\n",
    "        if name == \"price\":\n",
    "            if type(value) is not float:\n",
    "                raise ValueError(\"The price attr must be a float\")\n",
    "        return super().__setattr__(name, value)\n",
    "    \n",
    "    # __getattr__\n",
    "    def __getattribute__(self, name):\n",
    "        return name + \"is not here!\"\n",
    "        \n",
    "        \n",
    "b1 = Book(\"War and Peace\", \"Leo Tolstoy\", 39.95)\n",
    "b2 = Book(\"The Catcher in the Rye\", \"JD Salinger\", 29.95)\n",
    "\n",
    "#b1.price = 38.95\n",
    "#print(b1)\n",
    "\n",
    "#b2.price = float(40) # or 40.0\n",
    "#print(b2)\n",
    "\n",
    "print(b1.randomprop)"
   ]
  },
  {
   "cell_type": "code",
   "execution_count": 10,
   "id": "566b81e4",
   "metadata": {},
   "outputs": [
    {
     "name": "stdout",
     "output_type": "stream",
     "text": [
      "War and Peace by Leo Tolstoy, costs 39.95\n",
      "Anna Karenina by Leo Tolstoy, costs 49.95\n"
     ]
    }
   ],
   "source": [
    "# Callable objects\n",
    "class Book:\n",
    "    def __init__(self, title, author, price):\n",
    "        super().__init__()\n",
    "        self.title = title\n",
    "        self.author = author\n",
    "        self.price = price\n",
    "        \n",
    "    def __str__(self):\n",
    "        return f\"{self.title} by {self.author}, costs {self.price}\"\n",
    "    \n",
    "    # __call__\n",
    "    def __call__(self, title, author, price):\n",
    "        self.title = title\n",
    "        self.author = author\n",
    "        self.price = price\n",
    "        \n",
    "b1 = Book(\"War and Peace\", \"Leo Tolstoy\", 39.95)\n",
    "b2 = Book(\"The Catcher in the Rye\", \"JD Salinger\", 29.95)\n",
    "\n",
    "print(b1)\n",
    "b1(\"Anna Karenina\", \"Leo Tolstoy\", 49.95)\n",
    "print(b1)"
   ]
  },
  {
   "cell_type": "markdown",
   "id": "d56d6d20",
   "metadata": {},
   "source": [
    "## Data Classes"
   ]
  },
  {
   "cell_type": "code",
   "execution_count": null,
   "id": "a4f1c566",
   "metadata": {},
   "outputs": [],
   "source": []
  }
 ],
 "metadata": {
  "kernelspec": {
   "display_name": "Python 3",
   "language": "python",
   "name": "python3"
  },
  "language_info": {
   "codemirror_mode": {
    "name": "ipython",
    "version": 3
   },
   "file_extension": ".py",
   "mimetype": "text/x-python",
   "name": "python",
   "nbconvert_exporter": "python",
   "pygments_lexer": "ipython3",
   "version": "3.8.8"
  }
 },
 "nbformat": 4,
 "nbformat_minor": 5
}
